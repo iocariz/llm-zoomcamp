{
 "cells": [
  {
   "cell_type": "code",
   "execution_count": 17,
   "id": "1bb89593-6d9b-4ace-9bc0-cd78fbf8886d",
   "metadata": {},
   "outputs": [],
   "source": [
    "import openai"
   ]
  },
  {
   "cell_type": "code",
   "execution_count": 18,
   "id": "79d1d493-b2c9-4cca-b829-498959eff89f",
   "metadata": {},
   "outputs": [],
   "source": [
    "from openai import OpenAI"
   ]
  },
  {
   "cell_type": "code",
   "execution_count": 19,
   "id": "13ffc5f1-cc30-47c5-92ce-3d7acf34e510",
   "metadata": {},
   "outputs": [],
   "source": [
    "client = OpenAI()"
   ]
  },
  {
   "cell_type": "code",
   "execution_count": 20,
   "id": "a0c0f1ca-0a54-4128-8318-b2e02326fe10",
   "metadata": {},
   "outputs": [],
   "source": [
    "import os"
   ]
  },
  {
   "cell_type": "code",
   "execution_count": 21,
   "id": "4f1d72d0-8005-49d1-a0de-1a995c95df7d",
   "metadata": {},
   "outputs": [],
   "source": [
    "response = client.chat.completions.create(\n",
    "    model='gpt-4o',\n",
    "    messages=[{\"role\": \"user\", \"content\": \"is it too late to join the course?\"}]\n",
    ")"
   ]
  },
  {
   "cell_type": "code",
   "execution_count": 23,
   "id": "93ed30e7-8b70-4d34-8faf-b40b81eb716d",
   "metadata": {},
   "outputs": [
    {
     "data": {
      "text/plain": [
       "\"It's never too late to ask! The possibility of joining a course depends on several factors, such as:\\n\\n1. **Enrollment Deadlines**: Some courses have strict deadlines for registration.\\n2. **Course Progress**: If the course has already started, the ability to catch up may depend on how far along the course is and how much material you’ve missed.\\n3. **Instructor Policies**: Some instructors may be flexible about late enrollments, particularly if you can demonstrate a strong interest and willingness to catch up.\\n4. **Course Format**: Online courses, particularly self-paced ones, might offer more flexibility compared to traditional in-person courses.\\n\\nTo find out for sure, you should reach out to the course instructor or the academic institution offering the course as soon as possible. Good luck!\""
      ]
     },
     "execution_count": 23,
     "metadata": {},
     "output_type": "execute_result"
    }
   ],
   "source": [
    "response.choices[0].message.content"
   ]
  },
  {
   "cell_type": "code",
   "execution_count": null,
   "id": "7d436c19-7e3f-47d3-8219-37aec19fd82c",
   "metadata": {},
   "outputs": [],
   "source": []
  }
 ],
 "metadata": {
  "kernelspec": {
   "display_name": "Python 3 (ipykernel)",
   "language": "python",
   "name": "python3"
  },
  "language_info": {
   "codemirror_mode": {
    "name": "ipython",
    "version": 3
   },
   "file_extension": ".py",
   "mimetype": "text/x-python",
   "name": "python",
   "nbconvert_exporter": "python",
   "pygments_lexer": "ipython3",
   "version": "3.10.13"
  }
 },
 "nbformat": 4,
 "nbformat_minor": 5
}
